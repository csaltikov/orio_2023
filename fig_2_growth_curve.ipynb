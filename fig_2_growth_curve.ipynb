{
 "cells": [
  {
   "cell_type": "markdown",
   "metadata": {},
   "source": [
    "# Script for Producing Figure 2\n",
    "<p>Mehić and Saltikov, Environ Micro, 2022</p>\n",
    "<p>Processes the raw data from the platereader and plots three panels</p>\n",
    "<p>Panel A and B are contained in one file.</p>\n",
    "<p>Panel C is contained in a separate file.</p>"
   ]
  },
  {
   "cell_type": "code",
   "execution_count": 2,
   "metadata": {
    "id": "furalRCF6Bl-",
    "ExecuteTime": {
     "end_time": "2023-10-17T23:04:00.507667Z",
     "start_time": "2023-10-17T23:04:00.447608Z"
    }
   },
   "outputs": [],
   "source": [
    "import pandas as pd\n",
    "import matplotlib.pyplot as plt\n",
    "import numpy as np\n",
    "import string\n",
    "from matplotlib import container\n",
    "import matplotlib as mpl\n",
    "import seaborn as sns\n",
    "import os\n",
    "import pprint\n",
    "from pathlib import Path"
   ]
  },
  {
   "cell_type": "code",
   "execution_count": 3,
   "metadata": {
    "ExecuteTime": {
     "end_time": "2023-10-17T23:04:04.997611Z",
     "start_time": "2023-10-17T23:04:04.931242Z"
    }
   },
   "outputs": [],
   "source": [
    "mpl.rcParams.update(mpl.rcParamsDefault)\n",
    "# Change font preferences\n",
    "mpl.rcParams['pdf.fonttype'] = 42\n",
    "# Say, \"the default sans-serif font is COMIC SANS\"\n",
    "mpl.rcParams['font.sans-serif'] = \"Arial\"\n",
    "# Then, \"ALWAYS use sans-serif fonts\"\n",
    "mpl.rcParams['font.family'] = \"sans-serif\"\n",
    "# set default font size\n",
    "mpl.rcParams.update({'font.size': 7})"
   ]
  },
  {
   "cell_type": "markdown",
   "source": [
    "<H1>Houeskeeping for data files and results</H1>"
   ],
   "metadata": {
    "collapsed": false
   }
  },
  {
   "cell_type": "code",
   "execution_count": 26,
   "metadata": {
    "ExecuteTime": {
     "end_time": "2023-10-17T23:16:33.060864Z",
     "start_time": "2023-10-17T23:16:33.044435Z"
    }
   },
   "outputs": [],
   "source": [
    "# Set the data in and out directories\n",
    "project_dir = Path().absolute()\n",
    "\n",
    "# Directory where results will go\n",
    "out_dir = Path(\"results\")\n",
    "\n",
    "# Check if the results direcorty exists\n",
    "if not out_dir.exists():\n",
    "    # If it doesn't exist, create the directory\n",
    "    directory_path.mkdir()\n",
    "\n",
    "# Path to data files\n",
    "panel_ab = project_dir.joinpath(\"data/figure2AB_data.csv\")\n",
    "panel_c = project_dir.joinpath(\"data/figure2C_data.csv\")"
   ]
  },
  {
   "cell_type": "markdown",
   "metadata": {
    "tags": []
   },
   "source": [
    "## Read in data for panels A and B"
   ]
  },
  {
   "cell_type": "code",
   "execution_count": 31,
   "metadata": {
    "colab": {
     "base_uri": "https://localhost:8080/",
     "height": 244
    },
    "id": "SytREk7v6k0o",
    "outputId": "26daa18f-75ca-4ba5-fe04-57fc0ec7ebc2",
    "ExecuteTime": {
     "end_time": "2023-10-17T23:16:52.319163Z",
     "start_time": "2023-10-17T23:16:52.306649Z"
    }
   },
   "outputs": [],
   "source": [
    "# read in the aerobic growth curve data file, this is wide format\n",
    "dfAB = pd.read_csv(panel_ab, index_col=0)\n",
    "# remove the odd column at the end the dataframe... has no data in it\n",
    "dfC = pd.read_csv(panel_c, index_col=0)"
   ]
  },
  {
   "cell_type": "code",
   "execution_count": 32,
   "outputs": [
    {
     "data": {
      "text/plain": "     time hr      A1      A2      A3      A4      A5      A6      A7      A8  \\\n0        0.0  0.0839  0.0844  0.0853  0.0868  0.0867  0.0860  0.0858  0.0859   \n45       1.5  0.0844  0.0849  0.0860  0.0873  0.0872  0.0866  0.0866  0.0865   \n90       3.0  0.0841  0.0850  0.0859  0.0871  0.0869  0.0868  0.0864  0.0864   \n135      4.5  0.0845  0.0847  0.0862  0.0871  0.0873  0.0870  0.0863  0.0866   \n180      6.0  0.0841  0.0848  0.0862  0.0871  0.0873  0.0869  0.0864  0.0866   \n\n         A9  ...      H3      H4      H5      H6      H7      H8      H9  \\\n0    0.0873  ...  0.0972  0.0966  0.0976  0.0965  0.0959  0.0955  0.0972   \n45   0.0870  ...  0.1064  0.1057  0.1062  0.1060  0.1057  0.1055  0.1052   \n90   0.0875  ...  0.1394  0.1374  0.1336  0.1327  0.1333  0.1333  0.1342   \n135  0.0874  ...  0.2093  0.1948  0.1836  0.1739  0.1866  0.1775  0.1870   \n180  0.0873  ...  0.3460  0.3269  0.3194  0.2834  0.3083  0.3116  0.3239   \n\n        H10     H11     H12  \n0    0.1006  0.1026  0.0943  \n45   0.1040  0.1035  0.1027  \n90   0.1303  0.1309  0.1312  \n135  0.1727  0.1741  0.1768  \n180  0.2891  0.2913  0.2853  \n\n[5 rows x 97 columns]",
      "text/html": "<div>\n<style scoped>\n    .dataframe tbody tr th:only-of-type {\n        vertical-align: middle;\n    }\n\n    .dataframe tbody tr th {\n        vertical-align: top;\n    }\n\n    .dataframe thead th {\n        text-align: right;\n    }\n</style>\n<table border=\"1\" class=\"dataframe\">\n  <thead>\n    <tr style=\"text-align: right;\">\n      <th></th>\n      <th>time hr</th>\n      <th>A1</th>\n      <th>A2</th>\n      <th>A3</th>\n      <th>A4</th>\n      <th>A5</th>\n      <th>A6</th>\n      <th>A7</th>\n      <th>A8</th>\n      <th>A9</th>\n      <th>...</th>\n      <th>H3</th>\n      <th>H4</th>\n      <th>H5</th>\n      <th>H6</th>\n      <th>H7</th>\n      <th>H8</th>\n      <th>H9</th>\n      <th>H10</th>\n      <th>H11</th>\n      <th>H12</th>\n    </tr>\n  </thead>\n  <tbody>\n    <tr>\n      <th>0</th>\n      <td>0.0</td>\n      <td>0.0839</td>\n      <td>0.0844</td>\n      <td>0.0853</td>\n      <td>0.0868</td>\n      <td>0.0867</td>\n      <td>0.0860</td>\n      <td>0.0858</td>\n      <td>0.0859</td>\n      <td>0.0873</td>\n      <td>...</td>\n      <td>0.0972</td>\n      <td>0.0966</td>\n      <td>0.0976</td>\n      <td>0.0965</td>\n      <td>0.0959</td>\n      <td>0.0955</td>\n      <td>0.0972</td>\n      <td>0.1006</td>\n      <td>0.1026</td>\n      <td>0.0943</td>\n    </tr>\n    <tr>\n      <th>45</th>\n      <td>1.5</td>\n      <td>0.0844</td>\n      <td>0.0849</td>\n      <td>0.0860</td>\n      <td>0.0873</td>\n      <td>0.0872</td>\n      <td>0.0866</td>\n      <td>0.0866</td>\n      <td>0.0865</td>\n      <td>0.0870</td>\n      <td>...</td>\n      <td>0.1064</td>\n      <td>0.1057</td>\n      <td>0.1062</td>\n      <td>0.1060</td>\n      <td>0.1057</td>\n      <td>0.1055</td>\n      <td>0.1052</td>\n      <td>0.1040</td>\n      <td>0.1035</td>\n      <td>0.1027</td>\n    </tr>\n    <tr>\n      <th>90</th>\n      <td>3.0</td>\n      <td>0.0841</td>\n      <td>0.0850</td>\n      <td>0.0859</td>\n      <td>0.0871</td>\n      <td>0.0869</td>\n      <td>0.0868</td>\n      <td>0.0864</td>\n      <td>0.0864</td>\n      <td>0.0875</td>\n      <td>...</td>\n      <td>0.1394</td>\n      <td>0.1374</td>\n      <td>0.1336</td>\n      <td>0.1327</td>\n      <td>0.1333</td>\n      <td>0.1333</td>\n      <td>0.1342</td>\n      <td>0.1303</td>\n      <td>0.1309</td>\n      <td>0.1312</td>\n    </tr>\n    <tr>\n      <th>135</th>\n      <td>4.5</td>\n      <td>0.0845</td>\n      <td>0.0847</td>\n      <td>0.0862</td>\n      <td>0.0871</td>\n      <td>0.0873</td>\n      <td>0.0870</td>\n      <td>0.0863</td>\n      <td>0.0866</td>\n      <td>0.0874</td>\n      <td>...</td>\n      <td>0.2093</td>\n      <td>0.1948</td>\n      <td>0.1836</td>\n      <td>0.1739</td>\n      <td>0.1866</td>\n      <td>0.1775</td>\n      <td>0.1870</td>\n      <td>0.1727</td>\n      <td>0.1741</td>\n      <td>0.1768</td>\n    </tr>\n    <tr>\n      <th>180</th>\n      <td>6.0</td>\n      <td>0.0841</td>\n      <td>0.0848</td>\n      <td>0.0862</td>\n      <td>0.0871</td>\n      <td>0.0873</td>\n      <td>0.0869</td>\n      <td>0.0864</td>\n      <td>0.0866</td>\n      <td>0.0873</td>\n      <td>...</td>\n      <td>0.3460</td>\n      <td>0.3269</td>\n      <td>0.3194</td>\n      <td>0.2834</td>\n      <td>0.3083</td>\n      <td>0.3116</td>\n      <td>0.3239</td>\n      <td>0.2891</td>\n      <td>0.2913</td>\n      <td>0.2853</td>\n    </tr>\n  </tbody>\n</table>\n<p>5 rows × 97 columns</p>\n</div>"
     },
     "execution_count": 32,
     "metadata": {},
     "output_type": "execute_result"
    }
   ],
   "source": [
    "dfAB.head()"
   ],
   "metadata": {
    "collapsed": false,
    "ExecuteTime": {
     "end_time": "2023-10-17T23:16:53.319731Z",
     "start_time": "2023-10-17T23:16:53.246650Z"
    }
   }
  },
  {
   "cell_type": "code",
   "execution_count": 33,
   "outputs": [
    {
     "data": {
      "text/plain": "           0 mM As(III)   1 mM As(III)   2 mM As(III)   Control  \\\nTime (h)                                                          \n0              0.020333       0.020333       0.017667  0.003333   \n9              0.386000       0.053667       0.038000  0.002000   \n10             0.526000       0.054333       0.039000  0.001333   \n12             0.693333       0.053667       0.038333  0.001333   \n16             0.739333       0.056667       0.037000  0.002333   \n23             0.818667       0.103000       0.046333  0.001667   \n36             0.871667       0.628000       0.045333  0.001667   \n\n           0 mM As(III) std   1 mM As(III) std   2 mM As(III) std  Control std  \nTime (h)                                                                        \n0                  0.003215           0.003786           0.000577     0.003055  \n9                  0.031432           0.008145           0.001000     0.002646  \n10                 0.034641           0.007572           0.001732     0.002309  \n12                 0.030551           0.005508           0.001528     0.002309  \n16                 0.018475           0.007234           0.001000     0.002082  \n23                 0.019630           0.020664           0.003786     0.001528  \n36                 0.010408           0.109234           0.004509     0.002082  ",
      "text/html": "<div>\n<style scoped>\n    .dataframe tbody tr th:only-of-type {\n        vertical-align: middle;\n    }\n\n    .dataframe tbody tr th {\n        vertical-align: top;\n    }\n\n    .dataframe thead th {\n        text-align: right;\n    }\n</style>\n<table border=\"1\" class=\"dataframe\">\n  <thead>\n    <tr style=\"text-align: right;\">\n      <th></th>\n      <th>0 mM As(III)</th>\n      <th>1 mM As(III)</th>\n      <th>2 mM As(III)</th>\n      <th>Control</th>\n      <th>0 mM As(III) std</th>\n      <th>1 mM As(III) std</th>\n      <th>2 mM As(III) std</th>\n      <th>Control std</th>\n    </tr>\n    <tr>\n      <th>Time (h)</th>\n      <th></th>\n      <th></th>\n      <th></th>\n      <th></th>\n      <th></th>\n      <th></th>\n      <th></th>\n      <th></th>\n    </tr>\n  </thead>\n  <tbody>\n    <tr>\n      <th>0</th>\n      <td>0.020333</td>\n      <td>0.020333</td>\n      <td>0.017667</td>\n      <td>0.003333</td>\n      <td>0.003215</td>\n      <td>0.003786</td>\n      <td>0.000577</td>\n      <td>0.003055</td>\n    </tr>\n    <tr>\n      <th>9</th>\n      <td>0.386000</td>\n      <td>0.053667</td>\n      <td>0.038000</td>\n      <td>0.002000</td>\n      <td>0.031432</td>\n      <td>0.008145</td>\n      <td>0.001000</td>\n      <td>0.002646</td>\n    </tr>\n    <tr>\n      <th>10</th>\n      <td>0.526000</td>\n      <td>0.054333</td>\n      <td>0.039000</td>\n      <td>0.001333</td>\n      <td>0.034641</td>\n      <td>0.007572</td>\n      <td>0.001732</td>\n      <td>0.002309</td>\n    </tr>\n    <tr>\n      <th>12</th>\n      <td>0.693333</td>\n      <td>0.053667</td>\n      <td>0.038333</td>\n      <td>0.001333</td>\n      <td>0.030551</td>\n      <td>0.005508</td>\n      <td>0.001528</td>\n      <td>0.002309</td>\n    </tr>\n    <tr>\n      <th>16</th>\n      <td>0.739333</td>\n      <td>0.056667</td>\n      <td>0.037000</td>\n      <td>0.002333</td>\n      <td>0.018475</td>\n      <td>0.007234</td>\n      <td>0.001000</td>\n      <td>0.002082</td>\n    </tr>\n    <tr>\n      <th>23</th>\n      <td>0.818667</td>\n      <td>0.103000</td>\n      <td>0.046333</td>\n      <td>0.001667</td>\n      <td>0.019630</td>\n      <td>0.020664</td>\n      <td>0.003786</td>\n      <td>0.001528</td>\n    </tr>\n    <tr>\n      <th>36</th>\n      <td>0.871667</td>\n      <td>0.628000</td>\n      <td>0.045333</td>\n      <td>0.001667</td>\n      <td>0.010408</td>\n      <td>0.109234</td>\n      <td>0.004509</td>\n      <td>0.002082</td>\n    </tr>\n  </tbody>\n</table>\n</div>"
     },
     "execution_count": 33,
     "metadata": {},
     "output_type": "execute_result"
    }
   ],
   "source": [
    "dfC"
   ],
   "metadata": {
    "collapsed": false,
    "ExecuteTime": {
     "end_time": "2023-10-17T23:16:53.954802Z",
     "start_time": "2023-10-17T23:16:53.823683Z"
    }
   }
  },
  {
   "cell_type": "code",
   "execution_count": 34,
   "metadata": {
    "ExecuteTime": {
     "end_time": "2023-10-17T23:16:55.095981Z",
     "start_time": "2023-10-17T23:16:55.067836Z"
    }
   },
   "outputs": [],
   "source": [
    "def format_legend(ax, **kwargs):\n",
    "    # remove the errorbars within the legend\n",
    "    handles, labels = ax.get_legend_handles_labels()\n",
    "    handles = [h[0] if isinstance(h, container.ErrorbarContainer) else h for h in handles]\n",
    "    if kwargs:\n",
    "        for key, value in kwargs.items():\n",
    "            if key == \"nudge_leg\":\n",
    "                # value should be np.arrange(start, end, interval)\n",
    "                return ax.legend(handles, labels, frameon=False, loc=\"upper left\", bbox_to_anchor=value)\n",
    "    return ax.legend(handles, labels, frameon=False, loc=\"upper left\")"
   ]
  },
  {
   "cell_type": "markdown",
   "metadata": {
    "tags": []
   },
   "source": [
    "## Figure 2 code"
   ]
  },
  {
   "cell_type": "code",
   "execution_count": 48,
   "metadata": {
    "colab": {
     "base_uri": "https://localhost:8080/",
     "height": 513
    },
    "id": "gqPj7EYdeOLC",
    "outputId": "98ff2630-1c70-42d6-e5a6-64bdd588a00b",
    "ExecuteTime": {
     "end_time": "2023-10-17T23:30:11.027741Z",
     "start_time": "2023-10-17T23:30:08.852632Z"
    }
   },
   "outputs": [
    {
     "data": {
      "text/plain": "<Figure size 225x600 with 3 Axes>",
      "image/png": "[encoded data removed]"
     },
     "metadata": {},
     "output_type": "display_data"
    }
   ],
   "source": [
    "plate_reader_mapping = {}\n",
    "# make a dictionary for the columns corresponding to either As3 or As5\n",
    "arsenic_dic = {\"Arsenite\" : [1, 2, 3, 4, 5, 6 ],\n",
    "           \"Arsenate\" : [7, 8, 9, 10, 11, 12]}\n",
    "\n",
    "markersize=4\n",
    "capsize=3\n",
    "\n",
    "# make a list of the arsenic concentrations in uM\n",
    "concentrations = {\"Arsenate\": [4000, 2000, 1000, 500, 250, 125, 0],\n",
    "                 \"Arsenite\": [4000, 2000, 1000, 500, 250, 125, 0]}\n",
    "\n",
    "# Make a list of the markers I'd like to plot\n",
    "markers = [\"o\", \"^\", \"<\", \">\", \"s\", \"v\", \"x\"]\n",
    "\n",
    "# Set up the plot object, 3 rows, 1 column\n",
    "fig, axs = plt.subplots(3,1, figsize=(2.25, 6),\n",
    "                        gridspec_kw={'height_ratios': [1, 1, 1],\n",
    "                                     'hspace': 0.4})\n",
    "\n",
    "# Make Panel A and B by looping from the dictionary corresponding list\n",
    "graph = 0 # counter for the subplot position \n",
    "# loop through the dictionary of arsenite/arsenate concentrations\n",
    "for arsenic, columns in arsenic_dic.items():\n",
    "    counter = 0\n",
    "    # gets the columns in the 96 well plate data for the corresponding arsenic concentrations\n",
    "    for row in [str(i) for i in string.ascii_uppercase[1:8]]:  # ['B', 'C', 'D', 'E', 'F', 'G', 'H']\n",
    "        if (arsenic == \"Arsenite\") and (concentrations[arsenic][counter]==4000):\n",
    "            groups = [row+str(col) for col in columns[0:4]]\n",
    "            plate_reader_mapping[f\"{arsenic}_{concentrations[arsenic][counter]}\"] = groups\n",
    "        else:\n",
    "            groups = [row+str(col) for col in columns]  # e.g ['H7', 'H8', 'H9', 'H10', 'H11', 'H12']\n",
    "            plate_reader_mapping[f\"{arsenic}_{concentrations[arsenic][counter]}\"] = groups\n",
    "        axs[graph].errorbar(x= dfAB[\"time hr\"],\n",
    "                            y= dfAB.loc[:,groups].mean(axis=1),\n",
    "                            yerr= dfAB.loc[:,groups].std(axis=1),\n",
    "                            label = str(concentrations[arsenic][counter]) + str(u\" \\u03bcM\"),\n",
    "                            capsize=capsize,\n",
    "                            linewidth=0.5,\n",
    "                            color=\"black\",\n",
    "                            marker=markers[counter],\n",
    "                            markersize=markersize,\n",
    "                            mfc=\"none\",\n",
    "                            mec=\"black\")\n",
    "        counter +=1\n",
    "    # Adjust the ticks and axis limits\n",
    "    axs[graph].set_xticks(np.arange(0, 21, step=4))\n",
    "    axs[graph].set_yticks(np.arange(0, 1.2, step=0.2))\n",
    "    axs[graph].set_ylim([.05, 1.2])\n",
    "    axs[graph].set_yscale(\"log\")\n",
    "    \n",
    "    # Set the labels\n",
    "    #if graph == 0:\n",
    "    #axs[graph].set_ylabel(r\"Growth(OD$_{600nm}$)\")\n",
    "    #axs[graph].set_xlabel(\"Time (h)\")\n",
    "    axs[graph].text(x=-.1, y= 1.1, s= f\"{string.ascii_uppercase[graph]} {arsenic}\", \n",
    "                    fontsize=9, va='top', transform=axs[graph].transAxes)\n",
    "    \n",
    "    # remove the errorbars within the legend\n",
    "    format_legend(axs[graph], nudge_leg=(1,1,0,0))\n",
    "    \n",
    "    # done with previous plot\n",
    "    graph +=1\n",
    "    \n",
    "\n",
    "# Make Panel C\n",
    "time = dfC.index\n",
    "for x in range(dfC.shape[1]-4):\n",
    "    label = dfC.iloc[:,x].name\n",
    "    y = dfC.iloc[:, x]\n",
    "    err = dfC.iloc[:, x+4]\n",
    "    axs[2].errorbar(x=time,\n",
    "                    y=y,\n",
    "                    yerr=err,\n",
    "                    capsize=capsize,\n",
    "                    linewidth=0.5,\n",
    "                    color=\"black\",\n",
    "                    marker=[\"x\", \"s\", \"^\", \"o\"][x],\n",
    "                    mfc=\"none\",\n",
    "                    mec=\"black\",\n",
    "                    markersize=markersize,\n",
    "                    label=label)\n",
    "\n",
    "# Adjust the ticks and axis limits\n",
    "axs[2].set_xticks(np.arange(0, 43, step=6))\n",
    "axs[2].yaxis.set_ticks(np.arange(0.001, 1.2, step=0.2))\n",
    "axs[2].set_ylim([.001, 2])\n",
    "axs[2].set_yscale(\"log\")\n",
    "\n",
    "axs[2].text(x=-.1, y= 1.1, s= f\"C Arsenite/anaerobic\", \n",
    "                fontsize=9, va='top', transform=axs[graph].transAxes)\n",
    "\n",
    "format_legend(axs[2], nudge_leg=(1,1,0,0))\n",
    "\n",
    "for ax in axs:\n",
    "    ax.set_ylabel(r\"Growth(OD$_{600nm}$)\")\n",
    "    ax.set_xlabel(\"Time (h)\")\n",
    "\n",
    "plt.savefig(out_dir.joinpath(\"Fig2_ORIO_GC_arsenite_graph.pdf\"), bbox_inches='tight')\n",
    "plt.show()"
   ]
  },
  {
   "cell_type": "code",
   "execution_count": 50,
   "outputs": [
    {
     "data": {
      "text/plain": "{'Arsenite_4000': ['B1', 'B2', 'B3', 'B4'],\n 'Arsenite_2000': ['C1', 'C2', 'C3', 'C4', 'C5', 'C6'],\n 'Arsenite_1000': ['D1', 'D2', 'D3', 'D4', 'D5', 'D6'],\n 'Arsenite_500': ['E1', 'E2', 'E3', 'E4', 'E5', 'E6'],\n 'Arsenite_250': ['F1', 'F2', 'F3', 'F4', 'F5', 'F6'],\n 'Arsenite_125': ['G1', 'G2', 'G3', 'G4', 'G5', 'G6'],\n 'Arsenite_0': ['H1', 'H2', 'H3', 'H4', 'H5', 'H6'],\n 'Arsenate_4000': ['B7', 'B8', 'B9', 'B10', 'B11', 'B12'],\n 'Arsenate_2000': ['C7', 'C8', 'C9', 'C10', 'C11', 'C12'],\n 'Arsenate_1000': ['D7', 'D8', 'D9', 'D10', 'D11', 'D12'],\n 'Arsenate_500': ['E7', 'E8', 'E9', 'E10', 'E11', 'E12'],\n 'Arsenate_250': ['F7', 'F8', 'F9', 'F10', 'F11', 'F12'],\n 'Arsenate_125': ['G7', 'G8', 'G9', 'G10', 'G11', 'G12'],\n 'Arsenate_0': ['H7', 'H8', 'H9', 'H10', 'H11', 'H12']}"
     },
     "execution_count": 50,
     "metadata": {},
     "output_type": "execute_result"
    }
   ],
   "source": [
    "# Plate Reader well mapping\n",
    "plate_reader_mapping"
   ],
   "metadata": {
    "collapsed": false,
    "ExecuteTime": {
     "end_time": "2023-10-17T23:30:44.596271Z",
     "start_time": "2023-10-17T23:30:44.590711Z"
    }
   }
  },
  {
   "cell_type": "code",
   "execution_count": null,
   "outputs": [],
   "source": [],
   "metadata": {
    "collapsed": false
   }
  }
 ],
 "metadata": {
  "colab": {
   "collapsed_sections": [],
   "name": "gc_data_filter.ipynb",
   "provenance": []
  },
  "kernelspec": {
   "display_name": "Python 3 (ipykernel)",
   "language": "python",
   "name": "python3"
  },
  "language_info": {
   "codemirror_mode": {
    "name": "ipython",
    "version": 3
   },
   "file_extension": ".py",
   "mimetype": "text/x-python",
   "name": "python",
   "nbconvert_exporter": "python",
   "pygments_lexer": "ipython3",
   "version": "3.10.0"
  },
  "varInspector": {
   "cols": {
    "lenName": 16,
    "lenType": 16,
    "lenVar": 40
   },
   "kernels_config": {
    "python": {
     "delete_cmd_postfix": "",
     "delete_cmd_prefix": "del ",
     "library": "var_list.py",
     "varRefreshCmd": "print(var_dic_list())"
    },
    "r": {
     "delete_cmd_postfix": ") ",
     "delete_cmd_prefix": "rm(",
     "library": "var_list.r",
     "varRefreshCmd": "cat(var_dic_list()) "
    }
   },
   "position": {
    "height": "290.844px",
    "left": "1064px",
    "right": "20px",
    "top": "252px",
    "width": "422px"
   },
   "types_to_exclude": [
    "module",
    "function",
    "builtin_function_or_method",
    "instance",
    "_Feature"
   ],
   "window_display": true
  }
 },
 "nbformat": 4,
 "nbformat_minor": 4
}
